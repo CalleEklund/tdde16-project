{
 "cells": [
  {
   "cell_type": "code",
   "execution_count": 2,
   "metadata": {},
   "outputs": [
    {
     "name": "stderr",
     "output_type": "stream",
     "text": [
      "[nltk_data] Downloading package vader_lexicon to\n",
      "[nltk_data]     C:\\Users\\eklun\\AppData\\Roaming\\nltk_data...\n",
      "[nltk_data]   Package vader_lexicon is already up-to-date!\n"
     ]
    },
    {
     "data": {
      "text/plain": [
       "True"
      ]
     },
     "execution_count": 2,
     "metadata": {},
     "output_type": "execute_result"
    }
   ],
   "source": [
    "import pandas as pd\n",
    "import nltk\n",
    "from nltk.sentiment.vader import SentimentIntensityAnalyzer\n",
    "from gensim.models.doc2vec import Doc2Vec, TaggedDocument\n",
    "from sklearn.feature_extraction.text import TfidfVectorizer\n",
    "from sklearn.ensemble import RandomForestClassifier\n",
    "from sklearn.model_selection import train_test_split\n",
    "from sklearn.metrics import classification_report\n",
    "from sklearn.metrics import ConfusionMatrixDisplay\n",
    "import matplotlib.pyplot as plt\n",
    "from sklearn.linear_model import LogisticRegression\n",
    "\n",
    "nltk.download('vader_lexicon')"
   ]
  },
  {
   "cell_type": "code",
   "execution_count": 3,
   "metadata": {},
   "outputs": [
    {
     "name": "stdout",
     "output_type": "stream",
     "text": [
      "<class 'pandas.core.frame.DataFrame'>\n",
      "RangeIndex: 50000 entries, 0 to 49999\n",
      "Data columns (total 3 columns):\n",
      " #   Column     Non-Null Count  Dtype \n",
      "---  ------     --------------  ----- \n",
      " 0   Review     50000 non-null  object\n",
      " 1   Rating     50000 non-null  int64 \n",
      " 2   Sentiment  50000 non-null  int64 \n",
      "dtypes: int64(2), object(1)\n",
      "memory usage: 1.1+ MB\n"
     ]
    },
    {
     "data": {
      "text/html": [
       "<div>\n",
       "<style scoped>\n",
       "    .dataframe tbody tr th:only-of-type {\n",
       "        vertical-align: middle;\n",
       "    }\n",
       "\n",
       "    .dataframe tbody tr th {\n",
       "        vertical-align: top;\n",
       "    }\n",
       "\n",
       "    .dataframe thead th {\n",
       "        text-align: right;\n",
       "    }\n",
       "</style>\n",
       "<table border=\"1\" class=\"dataframe\">\n",
       "  <thead>\n",
       "    <tr style=\"text-align: right;\">\n",
       "      <th></th>\n",
       "      <th>Review</th>\n",
       "      <th>Rating</th>\n",
       "    </tr>\n",
       "  </thead>\n",
       "  <tbody>\n",
       "    <tr>\n",
       "      <th>0</th>\n",
       "      <td>Kurt Russell's chameleon-like performance, cou...</td>\n",
       "      <td>10</td>\n",
       "    </tr>\n",
       "    <tr>\n",
       "      <th>1</th>\n",
       "      <td>It was extremely low budget(it some scenes it ...</td>\n",
       "      <td>8</td>\n",
       "    </tr>\n",
       "    <tr>\n",
       "      <th>2</th>\n",
       "      <td>James Cagney is best known for his tough chara...</td>\n",
       "      <td>8</td>\n",
       "    </tr>\n",
       "    <tr>\n",
       "      <th>3</th>\n",
       "      <td>Following the brilliant \"Goyôkiba\" (aka. \"Hanz...</td>\n",
       "      <td>8</td>\n",
       "    </tr>\n",
       "    <tr>\n",
       "      <th>4</th>\n",
       "      <td>One of the last classics of the French New Wav...</td>\n",
       "      <td>10</td>\n",
       "    </tr>\n",
       "  </tbody>\n",
       "</table>\n",
       "</div>"
      ],
      "text/plain": [
       "                                              Review  Rating\n",
       "0  Kurt Russell's chameleon-like performance, cou...      10\n",
       "1  It was extremely low budget(it some scenes it ...       8\n",
       "2  James Cagney is best known for his tough chara...       8\n",
       "3  Following the brilliant \"Goyôkiba\" (aka. \"Hanz...       8\n",
       "4  One of the last classics of the French New Wav...      10"
      ]
     },
     "execution_count": 3,
     "metadata": {},
     "output_type": "execute_result"
    }
   ],
   "source": [
    "df = pd.read_csv('./data/imdb_sup.csv')\n",
    "#df = df.sample(frac=0.1, replace=False, random_state=1)\n",
    "df.info()\n",
    "df = df.drop('Sentiment', axis=1)\n",
    "df.head()"
   ]
  },
  {
   "cell_type": "code",
   "execution_count": 4,
   "metadata": {},
   "outputs": [],
   "source": [
    "df = df.drop_duplicates(keep=\"first\",subset=[\"Review\"])\n"
   ]
  },
  {
   "cell_type": "code",
   "execution_count": 5,
   "metadata": {},
   "outputs": [],
   "source": [
    "import spacy\n",
    "\n",
    "nlp = spacy.load('en_core_web_sm', disable=['parser', 'ner'])\n",
    "def clean_text(text):\n",
    "    doc = nlp(text)\n",
    "    text = [token.lemma_ for token in doc if not token.is_stop and token.is_alpha]\n",
    "    return \" \".join(text)"
   ]
  },
  {
   "cell_type": "code",
   "execution_count": 6,
   "metadata": {},
   "outputs": [
    {
     "data": {
      "text/html": [
       "<div>\n",
       "<style scoped>\n",
       "    .dataframe tbody tr th:only-of-type {\n",
       "        vertical-align: middle;\n",
       "    }\n",
       "\n",
       "    .dataframe tbody tr th {\n",
       "        vertical-align: top;\n",
       "    }\n",
       "\n",
       "    .dataframe thead th {\n",
       "        text-align: right;\n",
       "    }\n",
       "</style>\n",
       "<table border=\"1\" class=\"dataframe\">\n",
       "  <thead>\n",
       "    <tr style=\"text-align: right;\">\n",
       "      <th></th>\n",
       "      <th>Review</th>\n",
       "      <th>Rating</th>\n",
       "      <th>Clean_Review</th>\n",
       "    </tr>\n",
       "  </thead>\n",
       "  <tbody>\n",
       "    <tr>\n",
       "      <th>0</th>\n",
       "      <td>Kurt Russell's chameleon-like performance, cou...</td>\n",
       "      <td>10</td>\n",
       "      <td>Kurt Russell chameleon like performance couple...</td>\n",
       "    </tr>\n",
       "    <tr>\n",
       "      <th>1</th>\n",
       "      <td>It was extremely low budget(it some scenes it ...</td>\n",
       "      <td>8</td>\n",
       "      <td>extremely low scene look like record home vide...</td>\n",
       "    </tr>\n",
       "    <tr>\n",
       "      <th>2</th>\n",
       "      <td>James Cagney is best known for his tough chara...</td>\n",
       "      <td>8</td>\n",
       "      <td>James Cagney well know tough gangster role pla...</td>\n",
       "    </tr>\n",
       "    <tr>\n",
       "      <th>3</th>\n",
       "      <td>Following the brilliant \"Goyôkiba\" (aka. \"Hanz...</td>\n",
       "      <td>8</td>\n",
       "      <td>follow brilliant Goyôkiba aka Hanzo Razor Swor...</td>\n",
       "    </tr>\n",
       "    <tr>\n",
       "      <th>4</th>\n",
       "      <td>One of the last classics of the French New Wav...</td>\n",
       "      <td>10</td>\n",
       "      <td>classic French New Wave direction cineaste Jea...</td>\n",
       "    </tr>\n",
       "  </tbody>\n",
       "</table>\n",
       "</div>"
      ],
      "text/plain": [
       "                                              Review  Rating  \\\n",
       "0  Kurt Russell's chameleon-like performance, cou...      10   \n",
       "1  It was extremely low budget(it some scenes it ...       8   \n",
       "2  James Cagney is best known for his tough chara...       8   \n",
       "3  Following the brilliant \"Goyôkiba\" (aka. \"Hanz...       8   \n",
       "4  One of the last classics of the French New Wav...      10   \n",
       "\n",
       "                                        Clean_Review  \n",
       "0  Kurt Russell chameleon like performance couple...  \n",
       "1  extremely low scene look like record home vide...  \n",
       "2  James Cagney well know tough gangster role pla...  \n",
       "3  follow brilliant Goyôkiba aka Hanzo Razor Swor...  \n",
       "4  classic French New Wave direction cineaste Jea...  "
      ]
     },
     "execution_count": 6,
     "metadata": {},
     "output_type": "execute_result"
    }
   ],
   "source": [
    "df['Clean_Review'] = df['Review'].apply(clean_text)\n",
    "df.head()"
   ]
  },
  {
   "cell_type": "code",
   "execution_count": 7,
   "metadata": {},
   "outputs": [
    {
     "data": {
      "text/html": [
       "<div>\n",
       "<style scoped>\n",
       "    .dataframe tbody tr th:only-of-type {\n",
       "        vertical-align: middle;\n",
       "    }\n",
       "\n",
       "    .dataframe tbody tr th {\n",
       "        vertical-align: top;\n",
       "    }\n",
       "\n",
       "    .dataframe thead th {\n",
       "        text-align: right;\n",
       "    }\n",
       "</style>\n",
       "<table border=\"1\" class=\"dataframe\">\n",
       "  <thead>\n",
       "    <tr style=\"text-align: right;\">\n",
       "      <th></th>\n",
       "      <th>Review</th>\n",
       "      <th>Rating</th>\n",
       "      <th>Clean_Review</th>\n",
       "    </tr>\n",
       "  </thead>\n",
       "  <tbody>\n",
       "    <tr>\n",
       "      <th>0</th>\n",
       "      <td>Claire Booth Luce's \"The Women\" shows relationships with men through a woman's point of view in a play, (and 1939 film that also has Joan Crawford playing a bitch: a character who might have been ...</td>\n",
       "      <td>7</td>\n",
       "      <td>Claire Booth Luce Women show relationship man woman point view play film Joan Crawford play bitch character Amanda Farrow year male character male character bunch use woman like toy throw away lea...</td>\n",
       "    </tr>\n",
       "    <tr>\n",
       "      <th>1</th>\n",
       "      <td>_The Wild Life_ has an obvious resemblance to _Fast Times At Ridgemont High_, and _The Wild Life_ comes up short.&lt;br /&gt;&lt;br /&gt;------------ &lt;br /&gt;&lt;br /&gt;Some other stan wrote the above comment. Of co...</td>\n",
       "      <td>7</td>\n",
       "      <td>Wild Life obvious resemblance Fast Times Ridgemont High Wild Life come br stan write comment course Wild Life Ridgemont Ridgemont quintessential flica Wild Life enjoyable whiny mindless movie mind...</td>\n",
       "    </tr>\n",
       "    <tr>\n",
       "      <th>2</th>\n",
       "      <td>This was the film that first indicated to me what a great actor Martin Sheen really is. He modestly claims that Charlie is a better actor, Charlie can't hold a candle to him.&lt;br /&gt;&lt;br /&gt;I found it...</td>\n",
       "      <td>8</td>\n",
       "      <td>film indicate great actor Martin Sheen modestly claim Charlie well actor Charlie hold candle find suspenseful thoroughly enjoy intertwining love story main plot usually hate love story great plot ...</td>\n",
       "    </tr>\n",
       "    <tr>\n",
       "      <th>3</th>\n",
       "      <td>The plot has already been described by other reviewers, so I will simply add that my reason for wanting to see this film was to see Gabrielle Drake in all her undoubted glory.&lt;br /&gt;&lt;br /&gt;Miss Drak...</td>\n",
       "      <td>4</td>\n",
       "      <td>plot describe reviewer simply add reason want film Gabrielle Drake undoubted Drake sexy prettiest example posh totty commit celluloid era ilk equally exquisite Jane Asher come close actress musica...</td>\n",
       "    </tr>\n",
       "    <tr>\n",
       "      <th>4</th>\n",
       "      <td>Most of the comments have been positive but I would like to add that viewers should also focus on the sets. The set designer used a lot of beautiful art deco treatments along with beautiful buildi...</td>\n",
       "      <td>10</td>\n",
       "      <td>comment positive like add viewer focus set set designer lot beautiful art deco treatment beautiful building stair door furniture forth worth pay attention movie drive characterization symbolism ri...</td>\n",
       "    </tr>\n",
       "  </tbody>\n",
       "</table>\n",
       "</div>"
      ],
      "text/plain": [
       "                                                                                                                                                                                                    Review  Rating                                                                                                                                                                                             Clean_Review\n",
       "0  Claire Booth Luce's \"The Women\" shows relationships with men through a woman's point of view in a play, (and 1939 film that also has Joan Crawford playing a bitch: a character who might have been ...       7  Claire Booth Luce Women show relationship man woman point view play film Joan Crawford play bitch character Amanda Farrow year male character male character bunch use woman like toy throw away lea...\n",
       "1  _The Wild Life_ has an obvious resemblance to _Fast Times At Ridgemont High_, and _The Wild Life_ comes up short.<br /><br />------------ <br /><br />Some other stan wrote the above comment. Of co...       7  Wild Life obvious resemblance Fast Times Ridgemont High Wild Life come br stan write comment course Wild Life Ridgemont Ridgemont quintessential flica Wild Life enjoyable whiny mindless movie mind...\n",
       "2  This was the film that first indicated to me what a great actor Martin Sheen really is. He modestly claims that Charlie is a better actor, Charlie can't hold a candle to him.<br /><br />I found it...       8  film indicate great actor Martin Sheen modestly claim Charlie well actor Charlie hold candle find suspenseful thoroughly enjoy intertwining love story main plot usually hate love story great plot ...\n",
       "3  The plot has already been described by other reviewers, so I will simply add that my reason for wanting to see this film was to see Gabrielle Drake in all her undoubted glory.<br /><br />Miss Drak...       4  plot describe reviewer simply add reason want film Gabrielle Drake undoubted Drake sexy prettiest example posh totty commit celluloid era ilk equally exquisite Jane Asher come close actress musica...\n",
       "4  Most of the comments have been positive but I would like to add that viewers should also focus on the sets. The set designer used a lot of beautiful art deco treatments along with beautiful buildi...      10  comment positive like add viewer focus set set designer lot beautiful art deco treatment beautiful building stair door furniture forth worth pay attention movie drive characterization symbolism ri..."
      ]
     },
     "execution_count": 7,
     "metadata": {},
     "output_type": "execute_result"
    }
   ],
   "source": [
    "df_first_five = df.head(n=5)\n",
    "\n",
    "tmp = df_first_five.reset_index(drop=True)\n",
    "pd.set_option('display.max_columns', None)\n",
    "pd.set_option('display.expand_frame_repr', False)\n",
    "pd.set_option('display.max_colwidth', 200)\n",
    "\n",
    "tmp\n",
    "\n"
   ]
  },
  {
   "cell_type": "code",
   "execution_count": 7,
   "metadata": {},
   "outputs": [
    {
     "data": {
      "text/html": [
       "<div>\n",
       "<style scoped>\n",
       "    .dataframe tbody tr th:only-of-type {\n",
       "        vertical-align: middle;\n",
       "    }\n",
       "\n",
       "    .dataframe tbody tr th {\n",
       "        vertical-align: top;\n",
       "    }\n",
       "\n",
       "    .dataframe thead th {\n",
       "        text-align: right;\n",
       "    }\n",
       "</style>\n",
       "<table border=\"1\" class=\"dataframe\">\n",
       "  <thead>\n",
       "    <tr style=\"text-align: right;\">\n",
       "      <th></th>\n",
       "      <th>Review</th>\n",
       "      <th>Rating</th>\n",
       "      <th>Clean_Review</th>\n",
       "      <th>neg</th>\n",
       "      <th>neu</th>\n",
       "      <th>pos</th>\n",
       "      <th>compound</th>\n",
       "    </tr>\n",
       "  </thead>\n",
       "  <tbody>\n",
       "    <tr>\n",
       "      <th>0</th>\n",
       "      <td>Kurt Russell's chameleon-like performance, cou...</td>\n",
       "      <td>10</td>\n",
       "      <td>Kurt Russell chameleon like performance couple...</td>\n",
       "      <td>0.000</td>\n",
       "      <td>0.898</td>\n",
       "      <td>0.102</td>\n",
       "      <td>0.7909</td>\n",
       "    </tr>\n",
       "    <tr>\n",
       "      <th>1</th>\n",
       "      <td>It was extremely low budget(it some scenes it ...</td>\n",
       "      <td>8</td>\n",
       "      <td>extremely low scene look like record home vide...</td>\n",
       "      <td>0.162</td>\n",
       "      <td>0.730</td>\n",
       "      <td>0.108</td>\n",
       "      <td>-0.9494</td>\n",
       "    </tr>\n",
       "    <tr>\n",
       "      <th>2</th>\n",
       "      <td>James Cagney is best known for his tough chara...</td>\n",
       "      <td>8</td>\n",
       "      <td>James Cagney well know tough gangster role pla...</td>\n",
       "      <td>0.018</td>\n",
       "      <td>0.817</td>\n",
       "      <td>0.164</td>\n",
       "      <td>0.9965</td>\n",
       "    </tr>\n",
       "    <tr>\n",
       "      <th>3</th>\n",
       "      <td>Following the brilliant \"Goyôkiba\" (aka. \"Hanz...</td>\n",
       "      <td>8</td>\n",
       "      <td>follow brilliant Goyôkiba aka Hanzo Razor Swor...</td>\n",
       "      <td>0.108</td>\n",
       "      <td>0.700</td>\n",
       "      <td>0.191</td>\n",
       "      <td>0.9922</td>\n",
       "    </tr>\n",
       "    <tr>\n",
       "      <th>4</th>\n",
       "      <td>One of the last classics of the French New Wav...</td>\n",
       "      <td>10</td>\n",
       "      <td>classic French New Wave direction cineaste Jea...</td>\n",
       "      <td>0.074</td>\n",
       "      <td>0.737</td>\n",
       "      <td>0.189</td>\n",
       "      <td>0.9697</td>\n",
       "    </tr>\n",
       "  </tbody>\n",
       "</table>\n",
       "</div>"
      ],
      "text/plain": [
       "                                              Review  Rating  \\\n",
       "0  Kurt Russell's chameleon-like performance, cou...      10   \n",
       "1  It was extremely low budget(it some scenes it ...       8   \n",
       "2  James Cagney is best known for his tough chara...       8   \n",
       "3  Following the brilliant \"Goyôkiba\" (aka. \"Hanz...       8   \n",
       "4  One of the last classics of the French New Wav...      10   \n",
       "\n",
       "                                        Clean_Review    neg    neu    pos  \\\n",
       "0  Kurt Russell chameleon like performance couple...  0.000  0.898  0.102   \n",
       "1  extremely low scene look like record home vide...  0.162  0.730  0.108   \n",
       "2  James Cagney well know tough gangster role pla...  0.018  0.817  0.164   \n",
       "3  follow brilliant Goyôkiba aka Hanzo Razor Swor...  0.108  0.700  0.191   \n",
       "4  classic French New Wave direction cineaste Jea...  0.074  0.737  0.189   \n",
       "\n",
       "   compound  \n",
       "0    0.7909  \n",
       "1   -0.9494  \n",
       "2    0.9965  \n",
       "3    0.9922  \n",
       "4    0.9697  "
      ]
     },
     "execution_count": 7,
     "metadata": {},
     "output_type": "execute_result"
    }
   ],
   "source": [
    "sia = SentimentIntensityAnalyzer()\n",
    "\n",
    "df['Sentiments'] = df['Review'].apply(lambda x: sia.polarity_scores(x))\n",
    "df = pd.concat([df.drop(['Sentiments'], axis=1), df['Sentiments'].apply(pd.Series)], axis=1)\n",
    "\n",
    "df.head()"
   ]
  },
  {
   "cell_type": "code",
   "execution_count": 8,
   "metadata": {},
   "outputs": [
    {
     "data": {
      "text/html": [
       "<div>\n",
       "<style scoped>\n",
       "    .dataframe tbody tr th:only-of-type {\n",
       "        vertical-align: middle;\n",
       "    }\n",
       "\n",
       "    .dataframe tbody tr th {\n",
       "        vertical-align: top;\n",
       "    }\n",
       "\n",
       "    .dataframe thead th {\n",
       "        text-align: right;\n",
       "    }\n",
       "</style>\n",
       "<table border=\"1\" class=\"dataframe\">\n",
       "  <thead>\n",
       "    <tr style=\"text-align: right;\">\n",
       "      <th></th>\n",
       "      <th>Review</th>\n",
       "      <th>Rating</th>\n",
       "      <th>Clean_Review</th>\n",
       "      <th>neg</th>\n",
       "      <th>neu</th>\n",
       "      <th>pos</th>\n",
       "      <th>compound</th>\n",
       "      <th>doc2vec_vector_0</th>\n",
       "      <th>doc2vec_vector_1</th>\n",
       "      <th>doc2vec_vector_2</th>\n",
       "      <th>doc2vec_vector_3</th>\n",
       "      <th>doc2vec_vector_4</th>\n",
       "    </tr>\n",
       "  </thead>\n",
       "  <tbody>\n",
       "    <tr>\n",
       "      <th>0</th>\n",
       "      <td>Kurt Russell's chameleon-like performance, cou...</td>\n",
       "      <td>10</td>\n",
       "      <td>Kurt Russell chameleon like performance couple...</td>\n",
       "      <td>0.000</td>\n",
       "      <td>0.898</td>\n",
       "      <td>0.102</td>\n",
       "      <td>0.7909</td>\n",
       "      <td>0.348727</td>\n",
       "      <td>-0.283106</td>\n",
       "      <td>0.060187</td>\n",
       "      <td>-0.498162</td>\n",
       "      <td>0.079840</td>\n",
       "    </tr>\n",
       "    <tr>\n",
       "      <th>1</th>\n",
       "      <td>It was extremely low budget(it some scenes it ...</td>\n",
       "      <td>8</td>\n",
       "      <td>extremely low scene look like record home vide...</td>\n",
       "      <td>0.162</td>\n",
       "      <td>0.730</td>\n",
       "      <td>0.108</td>\n",
       "      <td>-0.9494</td>\n",
       "      <td>1.750372</td>\n",
       "      <td>0.311049</td>\n",
       "      <td>-0.240323</td>\n",
       "      <td>0.120756</td>\n",
       "      <td>-0.379363</td>\n",
       "    </tr>\n",
       "    <tr>\n",
       "      <th>2</th>\n",
       "      <td>James Cagney is best known for his tough chara...</td>\n",
       "      <td>8</td>\n",
       "      <td>James Cagney well know tough gangster role pla...</td>\n",
       "      <td>0.018</td>\n",
       "      <td>0.817</td>\n",
       "      <td>0.164</td>\n",
       "      <td>0.9965</td>\n",
       "      <td>0.313515</td>\n",
       "      <td>-0.327671</td>\n",
       "      <td>0.430811</td>\n",
       "      <td>-1.762936</td>\n",
       "      <td>-0.712429</td>\n",
       "    </tr>\n",
       "    <tr>\n",
       "      <th>3</th>\n",
       "      <td>Following the brilliant \"Goyôkiba\" (aka. \"Hanz...</td>\n",
       "      <td>8</td>\n",
       "      <td>follow brilliant Goyôkiba aka Hanzo Razor Swor...</td>\n",
       "      <td>0.108</td>\n",
       "      <td>0.700</td>\n",
       "      <td>0.191</td>\n",
       "      <td>0.9922</td>\n",
       "      <td>-0.057222</td>\n",
       "      <td>-0.867865</td>\n",
       "      <td>-0.165273</td>\n",
       "      <td>-1.367896</td>\n",
       "      <td>0.873025</td>\n",
       "    </tr>\n",
       "    <tr>\n",
       "      <th>4</th>\n",
       "      <td>One of the last classics of the French New Wav...</td>\n",
       "      <td>10</td>\n",
       "      <td>classic French New Wave direction cineaste Jea...</td>\n",
       "      <td>0.074</td>\n",
       "      <td>0.737</td>\n",
       "      <td>0.189</td>\n",
       "      <td>0.9697</td>\n",
       "      <td>-0.114497</td>\n",
       "      <td>-0.256006</td>\n",
       "      <td>0.793574</td>\n",
       "      <td>-1.042057</td>\n",
       "      <td>0.514050</td>\n",
       "    </tr>\n",
       "  </tbody>\n",
       "</table>\n",
       "</div>"
      ],
      "text/plain": [
       "                                              Review  Rating  \\\n",
       "0  Kurt Russell's chameleon-like performance, cou...      10   \n",
       "1  It was extremely low budget(it some scenes it ...       8   \n",
       "2  James Cagney is best known for his tough chara...       8   \n",
       "3  Following the brilliant \"Goyôkiba\" (aka. \"Hanz...       8   \n",
       "4  One of the last classics of the French New Wav...      10   \n",
       "\n",
       "                                        Clean_Review    neg    neu    pos  \\\n",
       "0  Kurt Russell chameleon like performance couple...  0.000  0.898  0.102   \n",
       "1  extremely low scene look like record home vide...  0.162  0.730  0.108   \n",
       "2  James Cagney well know tough gangster role pla...  0.018  0.817  0.164   \n",
       "3  follow brilliant Goyôkiba aka Hanzo Razor Swor...  0.108  0.700  0.191   \n",
       "4  classic French New Wave direction cineaste Jea...  0.074  0.737  0.189   \n",
       "\n",
       "   compound  doc2vec_vector_0  doc2vec_vector_1  doc2vec_vector_2  \\\n",
       "0    0.7909          0.348727         -0.283106          0.060187   \n",
       "1   -0.9494          1.750372          0.311049         -0.240323   \n",
       "2    0.9965          0.313515         -0.327671          0.430811   \n",
       "3    0.9922         -0.057222         -0.867865         -0.165273   \n",
       "4    0.9697         -0.114497         -0.256006          0.793574   \n",
       "\n",
       "   doc2vec_vector_3  doc2vec_vector_4  \n",
       "0         -0.498162          0.079840  \n",
       "1          0.120756         -0.379363  \n",
       "2         -1.762936         -0.712429  \n",
       "3         -1.367896          0.873025  \n",
       "4         -1.042057          0.514050  "
      ]
     },
     "execution_count": 8,
     "metadata": {},
     "output_type": "execute_result"
    }
   ],
   "source": [
    "documents = [TaggedDocument(doc, [i]) for i, doc in enumerate(df['Clean_Review'].apply(lambda x: x.split(' ')))]\n",
    "model = Doc2Vec(documents, vector_size=5, window=2, min_count=1, workers=4)\n",
    "doc2vec_df = df['Clean_Review'].apply(lambda x: model.infer_vector(x.split(\" \"))).apply(pd.Series)\n",
    "doc2vec_df.columns = ['doc2vec_vector_' + str(x) for x in doc2vec_df.columns]\n",
    "df = pd.concat([df, doc2vec_df], axis=1)\n",
    "\n",
    "df.head()"
   ]
  },
  {
   "cell_type": "code",
   "execution_count": 9,
   "metadata": {},
   "outputs": [],
   "source": [
    "tfidf = TfidfVectorizer(min_df=10)\n",
    "tfidf_result = tfidf.fit_transform(df['Clean_Review']).toarray()\n",
    "tfidf_df = pd.DataFrame(tfidf_result, columns = tfidf.get_feature_names_out())\n",
    "tfidf_df.columns = ['word_' + str(x) for x in tfidf_df.columns]\n",
    "tfidf_df.index = df.index\n",
    "df = pd.concat([df, tfidf_df], axis=1)\n",
    "\n"
   ]
  },
  {
   "cell_type": "code",
   "execution_count": 10,
   "metadata": {},
   "outputs": [],
   "source": [
    "df['posneg'] = df['Rating'].apply(lambda x: 0 if x < 5 else 1)\n"
   ]
  },
  {
   "cell_type": "code",
   "execution_count": 11,
   "metadata": {},
   "outputs": [
    {
     "name": "stdout",
     "output_type": "stream",
     "text": [
      "<class 'pandas.core.frame.DataFrame'>\n",
      "Index: 49582 entries, 0 to 49999\n",
      "Columns: 20190 entries, Review to posneg\n",
      "dtypes: float32(5), float64(20181), int64(2), object(2)\n",
      "memory usage: 7.5+ GB\n"
     ]
    },
    {
     "data": {
      "text/html": [
       "<div>\n",
       "<style scoped>\n",
       "    .dataframe tbody tr th:only-of-type {\n",
       "        vertical-align: middle;\n",
       "    }\n",
       "\n",
       "    .dataframe tbody tr th {\n",
       "        vertical-align: top;\n",
       "    }\n",
       "\n",
       "    .dataframe thead th {\n",
       "        text-align: right;\n",
       "    }\n",
       "</style>\n",
       "<table border=\"1\" class=\"dataframe\">\n",
       "  <thead>\n",
       "    <tr style=\"text-align: right;\">\n",
       "      <th></th>\n",
       "      <th>value</th>\n",
       "      <th>count</th>\n",
       "      <th>percentage</th>\n",
       "    </tr>\n",
       "  </thead>\n",
       "  <tbody>\n",
       "    <tr>\n",
       "      <th>0</th>\n",
       "      <td>1</td>\n",
       "      <td>24884</td>\n",
       "      <td>50.19</td>\n",
       "    </tr>\n",
       "    <tr>\n",
       "      <th>1</th>\n",
       "      <td>0</td>\n",
       "      <td>24698</td>\n",
       "      <td>49.81</td>\n",
       "    </tr>\n",
       "  </tbody>\n",
       "</table>\n",
       "</div>"
      ],
      "text/plain": [
       "   value  count  percentage\n",
       "0      1  24884       50.19\n",
       "1      0  24698       49.81"
      ]
     },
     "execution_count": 11,
     "metadata": {},
     "output_type": "execute_result"
    }
   ],
   "source": [
    "df.info()\n",
    "#df = df.drop(['Review', 'Clean_Review'], axis = 1)\n",
    "target = df['posneg'].value_counts().reset_index()\n",
    "target.rename(columns={'index':'posneg','posneg':'value'}, inplace=True)\n",
    "target['percentage'] = round((target['count']/target['count'].sum())*100,2)\n",
    "target"
   ]
  },
  {
   "cell_type": "code",
   "execution_count": 12,
   "metadata": {},
   "outputs": [],
   "source": [
    "X = df.drop(['posneg','Rating'],axis = 1)\n",
    "Y = df['posneg']\n",
    "#Kolla hur X ser ur, eventuellt droppa Review o Clean_Review\n",
    "#Eventuellt använda samma train/test split på alla classifiers"
   ]
  },
  {
   "cell_type": "code",
   "execution_count": 13,
   "metadata": {},
   "outputs": [],
   "source": [
    "X_train_rf, X_test_rf, y_train_rf, y_test_rf = train_test_split(X, \n",
    "                                                    Y, test_size=0.25, \n",
    "                                                    random_state=42)"
   ]
  },
  {
   "cell_type": "code",
   "execution_count": 14,
   "metadata": {},
   "outputs": [],
   "source": [
    "model = RandomForestClassifier(random_state=42)\n",
    "model.fit(X_train_rf, y_train_rf)\n",
    "preds = model.predict(X_test_rf)"
   ]
  },
  {
   "cell_type": "code",
   "execution_count": 83,
   "metadata": {},
   "outputs": [
    {
     "name": "stdout",
     "output_type": "stream",
     "text": [
      "              precision    recall  f1-score   support\n",
      "\n",
      "           0       0.81      0.83      0.82       593\n",
      "           1       0.84      0.82      0.83       656\n",
      "\n",
      "    accuracy                           0.82      1249\n",
      "   macro avg       0.82      0.82      0.82      1249\n",
      "weighted avg       0.82      0.82      0.82      1249\n",
      "\n"
     ]
    }
   ],
   "source": [
    "classification_decision1 = classification_report(y_test_rf, model.predict(X_test_rf))\n",
    "print(classification_decision1)"
   ]
  },
  {
   "cell_type": "code",
   "execution_count": 93,
   "metadata": {},
   "outputs": [
    {
     "data": {
      "image/png": "[encoded data removed]",
      "text/plain": [
       "<Figure size 640x480 with 2 Axes>"
      ]
     },
     "metadata": {},
     "output_type": "display_data"
    }
   ],
   "source": [
    "disp = ConfusionMatrixDisplay.from_estimator(model, X_test_rf, y_test_rf, display_labels=['Negative', 'Positive'])\n"
   ]
  },
  {
   "cell_type": "code",
   "execution_count": 94,
   "metadata": {},
   "outputs": [],
   "source": [
    "X_train_lr, X_test_lr,y_train_lr,y_test_lr = train_test_split(X,\n",
    "                                                Y,\n",
    "                                                test_size = 0.3,\n",
    "                                                random_state = 42)"
   ]
  },
  {
   "cell_type": "code",
   "execution_count": 96,
   "metadata": {},
   "outputs": [
    {
     "data": {
      "text/html": [
       "<style>#sk-container-id-1 {color: black;}#sk-container-id-1 pre{padding: 0;}#sk-container-id-1 div.sk-toggleable {background-color: white;}#sk-container-id-1 label.sk-toggleable__label {cursor: pointer;display: block;width: 100%;margin-bottom: 0;padding: 0.3em;box-sizing: border-box;text-align: center;}#sk-container-id-1 label.sk-toggleable__label-arrow:before {content: \"▸\";float: left;margin-right: 0.25em;color: #696969;}#sk-container-id-1 label.sk-toggleable__label-arrow:hover:before {color: black;}#sk-container-id-1 div.sk-estimator:hover label.sk-toggleable__label-arrow:before {color: black;}#sk-container-id-1 div.sk-toggleable__content {max-height: 0;max-width: 0;overflow: hidden;text-align: left;background-color: #f0f8ff;}#sk-container-id-1 div.sk-toggleable__content pre {margin: 0.2em;color: black;border-radius: 0.25em;background-color: #f0f8ff;}#sk-container-id-1 input.sk-toggleable__control:checked~div.sk-toggleable__content {max-height: 200px;max-width: 100%;overflow: auto;}#sk-container-id-1 input.sk-toggleable__control:checked~label.sk-toggleable__label-arrow:before {content: \"▾\";}#sk-container-id-1 div.sk-estimator input.sk-toggleable__control:checked~label.sk-toggleable__label {background-color: #d4ebff;}#sk-container-id-1 div.sk-label input.sk-toggleable__control:checked~label.sk-toggleable__label {background-color: #d4ebff;}#sk-container-id-1 input.sk-hidden--visually {border: 0;clip: rect(1px 1px 1px 1px);clip: rect(1px, 1px, 1px, 1px);height: 1px;margin: -1px;overflow: hidden;padding: 0;position: absolute;width: 1px;}#sk-container-id-1 div.sk-estimator {font-family: monospace;background-color: #f0f8ff;border: 1px dotted black;border-radius: 0.25em;box-sizing: border-box;margin-bottom: 0.5em;}#sk-container-id-1 div.sk-estimator:hover {background-color: #d4ebff;}#sk-container-id-1 div.sk-parallel-item::after {content: \"\";width: 100%;border-bottom: 1px solid gray;flex-grow: 1;}#sk-container-id-1 div.sk-label:hover label.sk-toggleable__label {background-color: #d4ebff;}#sk-container-id-1 div.sk-serial::before {content: \"\";position: absolute;border-left: 1px solid gray;box-sizing: border-box;top: 0;bottom: 0;left: 50%;z-index: 0;}#sk-container-id-1 div.sk-serial {display: flex;flex-direction: column;align-items: center;background-color: white;padding-right: 0.2em;padding-left: 0.2em;position: relative;}#sk-container-id-1 div.sk-item {position: relative;z-index: 1;}#sk-container-id-1 div.sk-parallel {display: flex;align-items: stretch;justify-content: center;background-color: white;position: relative;}#sk-container-id-1 div.sk-item::before, #sk-container-id-1 div.sk-parallel-item::before {content: \"\";position: absolute;border-left: 1px solid gray;box-sizing: border-box;top: 0;bottom: 0;left: 50%;z-index: -1;}#sk-container-id-1 div.sk-parallel-item {display: flex;flex-direction: column;z-index: 1;position: relative;background-color: white;}#sk-container-id-1 div.sk-parallel-item:first-child::after {align-self: flex-end;width: 50%;}#sk-container-id-1 div.sk-parallel-item:last-child::after {align-self: flex-start;width: 50%;}#sk-container-id-1 div.sk-parallel-item:only-child::after {width: 0;}#sk-container-id-1 div.sk-dashed-wrapped {border: 1px dashed gray;margin: 0 0.4em 0.5em 0.4em;box-sizing: border-box;padding-bottom: 0.4em;background-color: white;}#sk-container-id-1 div.sk-label label {font-family: monospace;font-weight: bold;display: inline-block;line-height: 1.2em;}#sk-container-id-1 div.sk-label-container {text-align: center;}#sk-container-id-1 div.sk-container {/* jupyter's `normalize.less` sets `[hidden] { display: none; }` but bootstrap.min.css set `[hidden] { display: none !important; }` so we also need the `!important` here to be able to override the default hidden behavior on the sphinx rendered scikit-learn.org. See: https://github.com/scikit-learn/scikit-learn/issues/21755 */display: inline-block !important;position: relative;}#sk-container-id-1 div.sk-text-repr-fallback {display: none;}</style><div id=\"sk-container-id-1\" class=\"sk-top-container\"><div class=\"sk-text-repr-fallback\"><pre>LogisticRegression(random_state=42)</pre><b>In a Jupyter environment, please rerun this cell to show the HTML representation or trust the notebook. <br />On GitHub, the HTML representation is unable to render, please try loading this page with nbviewer.org.</b></div><div class=\"sk-container\" hidden><div class=\"sk-item\"><div class=\"sk-estimator sk-toggleable\"><input class=\"sk-toggleable__control sk-hidden--visually\" id=\"sk-estimator-id-1\" type=\"checkbox\" checked><label for=\"sk-estimator-id-1\" class=\"sk-toggleable__label sk-toggleable__label-arrow\">LogisticRegression</label><div class=\"sk-toggleable__content\"><pre>LogisticRegression(random_state=42)</pre></div></div></div></div></div>"
      ],
      "text/plain": [
       "LogisticRegression(random_state=42)"
      ]
     },
     "execution_count": 96,
     "metadata": {},
     "output_type": "execute_result"
    }
   ],
   "source": [
    "logreg = LogisticRegression(random_state=42)\n",
    "logreg.fit(X_train_lr, y_train_lr)\n",
    "logreg.predict(X_test_lr)"
   ]
  },
  {
   "cell_type": "code",
   "execution_count": 97,
   "metadata": {},
   "outputs": [
    {
     "name": "stdout",
     "output_type": "stream",
     "text": [
      "              precision    recall  f1-score   support\n",
      "\n",
      "           0       0.80      0.80      0.80       722\n",
      "           1       0.81      0.82      0.82       777\n",
      "\n",
      "    accuracy                           0.81      1499\n",
      "   macro avg       0.81      0.81      0.81      1499\n",
      "weighted avg       0.81      0.81      0.81      1499\n",
      "\n"
     ]
    }
   ],
   "source": [
    "classification_decision2 = classification_report(y_test_lr, logreg.predict(X_test_lr))\n",
    "print(classification_decision2)"
   ]
  },
  {
   "cell_type": "code",
   "execution_count": 98,
   "metadata": {},
   "outputs": [
    {
     "data": {
      "image/png": "[encoded data removed]",
      "text/plain": [
       "<Figure size 640x480 with 2 Axes>"
      ]
     },
     "metadata": {},
     "output_type": "display_data"
    }
   ],
   "source": [
    "disp = ConfusionMatrixDisplay.from_estimator(logreg, X_test_lr, y_test_lr, display_labels=['Negative', 'Positive'])\n"
   ]
  },
  {
   "cell_type": "code",
   "execution_count": 101,
   "metadata": {},
   "outputs": [],
   "source": [
    "X_train_mnb, X_test_mnb,y_train_mnb,y_test_mnb = train_test_split(X,\n",
    "                                                Y,\n",
    "                                                test_size = 0.3,\n",
    "                                                random_state = 42)\n",
    "from sklearn import svm\n",
    "from sklearn.svm import LinearSVC\n",
    "\n",
    "svc = LinearSVC(random_state=42).fit(X_train_mnb, y_train_mnb)\n",
    "svc.predict(X_test_mnb)\n"
   ]
  },
  {
   "cell_type": "code",
   "execution_count": 102,
   "metadata": {},
   "outputs": [
    {
     "name": "stdout",
     "output_type": "stream",
     "text": [
      "              precision    recall  f1-score   support\n",
      "\n",
      "           0       0.79      0.75      0.77       722\n",
      "           1       0.78      0.82      0.80       777\n",
      "\n",
      "    accuracy                           0.78      1499\n",
      "   macro avg       0.78      0.78      0.78      1499\n",
      "weighted avg       0.78      0.78      0.78      1499\n",
      "\n"
     ]
    }
   ],
   "source": [
    "classification_decision3 = classification_report(y_test_mnb, svc.predict(X_test_mnb))\n",
    "print(classification_decision3)"
   ]
  },
  {
   "cell_type": "code",
   "execution_count": 103,
   "metadata": {},
   "outputs": [
    {
     "data": {
      "image/png": "[encoded data removed]",
      "text/plain": [
       "<Figure size 640x480 with 2 Axes>"
      ]
     },
     "metadata": {},
     "output_type": "display_data"
    }
   ],
   "source": [
    "disp = ConfusionMatrixDisplay.from_estimator(svc, X_test_mnb, y_test_mnb, display_labels=['Negative', 'Positive'])\n"
   ]
  }
 ],
 "metadata": {
  "kernelspec": {
   "display_name": "tdde16-project-py-3.9",
   "language": "python",
   "name": "python3"
  },
  "language_info": {
   "codemirror_mode": {
    "name": "ipython",
    "version": 3
   },
   "file_extension": ".py",
   "mimetype": "text/x-python",
   "name": "python",
   "nbconvert_exporter": "python",
   "pygments_lexer": "ipython3",
   "version": "3.9.18"
  }
 },
 "nbformat": 4,
 "nbformat_minor": 2
}
